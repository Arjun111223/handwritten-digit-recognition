{
  "nbformat": 4,
  "nbformat_minor": 0,
  "metadata": {
    "colab": {
      "provenance": []
    },
    "kernelspec": {
      "name": "python3",
      "display_name": "Python 3"
    },
    "language_info": {
      "name": "python"
    }
  },
  "cells": [
    {
      "cell_type": "code",
      "execution_count": null,
      "metadata": {
        "id": "nl6Kw9CyeQr_"
      },
      "outputs": [],
      "source": [
        "from google.colab import files\n",
        "import numpy as np\n",
        "from tensorflow.keras.preprocessing import image\n",
        "import matplotlib.pyplot as plt\n",
        "\n",
        "# Function to upload an image file in Colab\n",
        "def upload_image():\n",
        "    uploaded = files.upload()  # Allows user to upload file(s)\n",
        "    img_path = list(uploaded.keys())[0]  # Get the file name\n",
        "    return img_path\n",
        "\n",
        "# Function to preprocess the image and make a prediction\n",
        "def predict_digit_from_upload():\n",
        "    img_path = upload_image()\n",
        "\n",
        "    # Load the image\n",
        "    img = image.load_img(img_path, target_size=(28, 28), color_mode=\"grayscale\")\n",
        "\n",
        "    # Convert the image to a numpy array\n",
        "    img_array = image.img_to_array(img)\n",
        "\n",
        "    # Normalize the pixel values to be between 0 and 1\n",
        "    img_array = img_array / 255.0\n",
        "\n",
        "    # Reshape the image to (1, 28, 28, 1) since the model expects a batch\n",
        "    img_array = np.reshape(img_array, (1, 28, 28, 1))\n",
        "\n",
        "    # Use the trained model to predict the class of the digit\n",
        "    prediction = model.predict(img_array)\n",
        "\n",
        "    # Get the class with the highest probability\n",
        "    predicted_digit = np.argmax(prediction)\n",
        "\n",
        "    # Display the image\n",
        "    plt.imshow(img_array.reshape(28, 28), cmap='gray')\n",
        "    plt.title(f'Predicted digit: {predicted_digit}')\n",
        "    plt.axis('off')\n",
        "    plt.show()\n",
        "\n",
        "    return predicted_digit\n",
        "\n",
        "# Run the function to upload and predict\n",
        "predict_digit_from_upload()"
      ]
    }
  ]
}